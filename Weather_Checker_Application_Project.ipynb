{
  "nbformat": 4,
  "nbformat_minor": 0,
  "metadata": {
    "colab": {
      "provenance": [],
      "authorship_tag": "ABX9TyPaWb63NcvKrlEOMH5Tx9fF",
      "include_colab_link": true
    },
    "kernelspec": {
      "name": "python3",
      "display_name": "Python 3"
    },
    "language_info": {
      "name": "python"
    }
  },
  "cells": [
    {
      "cell_type": "markdown",
      "metadata": {
        "id": "view-in-github",
        "colab_type": "text"
      },
      "source": [
        "<a href=\"https://colab.research.google.com/github/asafle43/Weather-Checker-Application-Project/blob/main/Weather_Checker_Application_Project.ipynb\" target=\"_parent\"><img src=\"https://colab.research.google.com/assets/colab-badge.svg\" alt=\"Open In Colab\"/></a>"
      ]
    },
    {
      "cell_type": "code",
      "source": [
        "!pip install streamlit\n",
        "!pip install requests\n",
        "!pip install json\n",
        "!pip install datetime\n",
        "!pip install pandas\n",
        "!pip install pytz\n",
        "!pip install timezonefinder\n",
        "!pip install sys\n",
        "!pip install IPython\n",
        "!pip install argparse\n",
        "!pip install geocoder\n",
        "!pip install geopy"
      ],
      "metadata": {
        "id": "xDIKUuoema_F"
      },
      "execution_count": null,
      "outputs": []
    },
    {
      "cell_type": "code",
      "source": [
        "from datetime import datetime\n",
        "import pytz\n",
        "import argparse\n",
        "import timezonefinder\n",
        "import geocoder\n",
        "from google.colab import userdata\n",
        "import streamlit as st\n",
        "import requests, json\n",
        "import datetime\n",
        "import pandas as pd\n",
        "from IPython import get_ipython"
      ],
      "metadata": {
        "id": "lQLscNorS1-r"
      },
      "execution_count": 1,
      "outputs": []
    },
    {
      "cell_type": "code",
      "source": [
        "def get_time_zone_by_location(longitude, latitude):\n",
        "    tf = timezonefinder.TimezoneFinder()\n",
        "    timezone_str = tf.certain_timezone_at(lat=latitude, lng=longitude)\n",
        "    if timezone_str is None:\n",
        "        timezone_str = tf.closest_timezone_at(lat=latitude, lng=longitude)\n",
        "    return timezone_str\n",
        "\n",
        "\n",
        "def get_friendly_datetime(city_name, longitude, latitude):\n",
        "    try:\n",
        "        timezone_str = get_time_zone_by_location(longitude, latitude)\n",
        "        user_timezone = pytz.timezone(timezone_str)\n",
        "\n",
        "        utc_now = datetime.datetime.utcnow()\n",
        "\n",
        "        local_time = utc_now.astimezone(user_timezone)\n",
        "\n",
        "        formatted_time = local_time.strftime(\"%A, %B %d, %Y %I:%M %p\")\n",
        "\n",
        "        return (f\"Current time in {city_name}: {formatted_time}\")\n",
        "    except pytz.UnknownTimeZoneError:\n",
        "        return (f\"Error: '{timezone_str}' is not a valid timezone.\")\n",
        "\n",
        "def get_local_time():\n",
        "    local_date_time = None\n",
        "    try:\n",
        "        geo = geocoder.ip('me')\n",
        "        if geo.current_result is not None:\n",
        "            coordinates = geocoder.latlng\n",
        "            if coordinates is not None:\n",
        "                latitude, longitude = coordinates\n",
        "                local_date_time = get_friendly_datetime(geo.current_result.address, longitude, latitude)\n",
        "        return local_date_time\n",
        "    except:\n",
        "        return local_date_time\n",
        "\n",
        "def get_city_wheather_info(city_name):\n",
        "    api_url = \"http://api.openweathermap.org/data/2.5/weather?\"\n",
        "    api_key = userdata.get('api_key_secret')\n",
        "    complete_url = api_url + \"appid=\" + api_key + \"&q=\" + city_name + \"&units=metric\"\n",
        "    if api_key:\n",
        "        response = requests.get(complete_url)\n",
        "        json_file = response.json()\n",
        "        if \"cod\" in json_file:\n",
        "            return json_file\n",
        "        else:\n",
        "            return None\n",
        "\n",
        "def check_streamlit():\n",
        "    try:\n",
        "        from streamlit.runtime.scriptrunner import get_script_run_ctx\n",
        "        if not get_script_run_ctx():\n",
        "            use_streamlit = False\n",
        "        else:\n",
        "            use_streamlit = True\n",
        "    except ModuleNotFoundError:\n",
        "        use_streamlit = False\n",
        "    return use_streamlit\n",
        "\n",
        "\n",
        "\n",
        "\n",
        "use_cli=True\n",
        "city_name=None\n",
        "if 'google.colab' in str(get_ipython()) or check_streamlit():\n",
        "  use_cli=False\n",
        "\n",
        "if use_cli:\n",
        "  parser = argparse.ArgumentParser(description='OpenWeatherMap CLI')\n",
        "  parser.add_argument('--location', type=str, help='Location to get the weather for')\n",
        "  args = parser.parse_args()\n",
        "\n",
        "  if args.location:\n",
        "    city_name = args.location\n",
        "\n",
        "else:\n",
        "    if 'google.colab' in str(get_ipython()):\n",
        "        print(\"Weather Checker Application-Project(Asaf Levi)\")\n",
        "    elif check_streamlit():\n",
        "        st.title(\"Weather Checker Application-Project(Asaf Levi)\")\n",
        "        df = pd.read_csv('https://raw.githubusercontent.com/datasets/world-cities/master/data/world-cities.csv')\n",
        "    else:\n",
        "        print(\"Weather Checker Application-Project(Asaf Levi)\")\n",
        "\n",
        "\n",
        "if not city_name:\n",
        "    if 'google.colab' in str(get_ipython()):\n",
        "        city_name = input(\"Enter city name: \")\n",
        "    elif check_streamlit():\n",
        "        df.columns =['City', 'Country', 'subcountry', 'geonameid']\n",
        "        city_name = st.selectbox(\"Choose City:\", df['City'].tolist())\n",
        "    else:\n",
        "        city_name = input(\"Enter city name: \")\n",
        "wheather = get_city_wheather_info(city_name)\n",
        "\n",
        "if wheather:\n",
        "    if wheather[\"cod\"] != \"404\":\n",
        "        local_date_time = get_local_time()\n",
        "        date_time = get_friendly_datetime(city_name, wheather['coord']['lon'], wheather['coord']['lat'])\n",
        "        y = wheather[\"main\"]\n",
        "        current_temperature = y[\"temp\"]\n",
        "        fahrenheit_temperature = (current_temperature * 1.8) + 32\n",
        "        current_pressure = y[\"pressure\"]\n",
        "        current_humidiy = y[\"humidity\"]\n",
        "        z = wheather[\"weather\"]\n",
        "        weather_description = z[0][\"description\"]\n",
        "        print('Local Time : ', str(local_date_time))\n",
        "        print(city_name + ' Time : ', str(date_time))\n",
        "        print('--------------------------------', \"\")\n",
        "        print('City : ', str(wheather[\"name\"]))\n",
        "        print('Country : ', str(wheather[\"sys\"][\"country\"]))\n",
        "        print('Weather Description : ', str(weather_description))\n",
        "        print('Temperature (C/F) : ', str(current_temperature)+\"/\"+str(fahrenheit_temperature))\n",
        "        print('atmospheric pressure (in hPa unit) : ', str(current_pressure))\n",
        "        print('humidity (in percentage) : ', str(current_humidiy))\n",
        "    else:\n",
        "        print(f\"{city_name} Not Found \")"
      ],
      "metadata": {
        "colab": {
          "base_uri": "https://localhost:8080/"
        },
        "id": "K4nUYqwrQLpo",
        "outputId": "4335a382-8ed7-4577-ed2e-0056da56e560"
      },
      "execution_count": 35,
      "outputs": [
        {
          "output_type": "stream",
          "name": "stdout",
          "text": [
            "Weather Checker Application-Project(Asaf Levi)\n",
            "Enter city name: asdfg\n",
            "asdfg  City Not Found \n"
          ]
        }
      ]
    }
  ]
}